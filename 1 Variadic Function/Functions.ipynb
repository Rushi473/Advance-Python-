{
 "cells": [
  {
   "cell_type": "markdown",
   "metadata": {},
   "source": [
    "## Variadic Function"
   ]
  },
  {
   "cell_type": "code",
   "execution_count": 1,
   "metadata": {},
   "outputs": [],
   "source": [
    "from warnings import filterwarnings\n",
    "filterwarnings(\"ignore\")"
   ]
  },
  {
   "cell_type": "markdown",
   "metadata": {},
   "source": [
    "## User define function"
   ]
  },
  {
   "cell_type": "code",
   "execution_count": 2,
   "metadata": {},
   "outputs": [],
   "source": [
    "def multiply(a: int | float, b: int | float) -> int | float:\n",
    "    \"\"\"\n",
    "    Input : This Function takes two number as input\n",
    "    Output : Multiplication of twwo numbers\n",
    "    \"\"\"\n",
    "    c = a * b\n",
    "    return c"
   ]
  },
  {
   "cell_type": "code",
   "execution_count": 5,
   "metadata": {},
   "outputs": [],
   "source": [
    "## Arguments in function\n",
    "m1 = multiply(3,4)"
   ]
  },
  {
   "cell_type": "code",
   "execution_count": 4,
   "metadata": {},
   "outputs": [
    {
     "data": {
      "text/plain": [
       "12"
      ]
     },
     "execution_count": 4,
     "metadata": {},
     "output_type": "execute_result"
    }
   ],
   "source": [
    "m1"
   ]
  },
  {
   "cell_type": "code",
   "execution_count": 6,
   "metadata": {},
   "outputs": [],
   "source": [
    "m2 = multiply(156,25)"
   ]
  },
  {
   "cell_type": "code",
   "execution_count": 7,
   "metadata": {},
   "outputs": [
    {
     "data": {
      "text/plain": [
       "3900"
      ]
     },
     "execution_count": 7,
     "metadata": {},
     "output_type": "execute_result"
    }
   ],
   "source": [
    "m2"
   ]
  },
  {
   "cell_type": "code",
   "execution_count": 8,
   "metadata": {},
   "outputs": [],
   "source": [
    "## Keyword Arguments\n",
    "m3 = multiply(a=45.6,b=6.4)"
   ]
  },
  {
   "cell_type": "code",
   "execution_count": 9,
   "metadata": {},
   "outputs": [
    {
     "data": {
      "text/plain": [
       "291.84000000000003"
      ]
     },
     "execution_count": 9,
     "metadata": {},
     "output_type": "execute_result"
    }
   ],
   "source": [
    "m3"
   ]
  },
  {
   "cell_type": "markdown",
   "metadata": {},
   "source": [
    "### Args in function\n",
    "1 . *args - will act like tuple in function"
   ]
  },
  {
   "cell_type": "code",
   "execution_count": 11,
   "metadata": {},
   "outputs": [],
   "source": [
    "def fun1(*args):\n",
    "    print(args)\n",
    "    print(type(args))\n",
    "    for i in args:\n",
    "        print(i)"
   ]
  },
  {
   "cell_type": "code",
   "execution_count": 12,
   "metadata": {},
   "outputs": [
    {
     "name": "stdout",
     "output_type": "stream",
     "text": [
      "('Rushi', False, 44.5, True)\n",
      "<class 'tuple'>\n",
      "Rushi\n",
      "False\n",
      "44.5\n",
      "True\n"
     ]
    }
   ],
   "source": [
    "fun1(\"Rushi\",False,44.5,True)"
   ]
  },
  {
   "cell_type": "markdown",
   "metadata": {},
   "source": [
    "## Pass list as an arguments"
   ]
  },
  {
   "cell_type": "code",
   "execution_count": 13,
   "metadata": {},
   "outputs": [
    {
     "data": {
      "text/plain": [
       "list"
      ]
     },
     "execution_count": 13,
     "metadata": {},
     "output_type": "execute_result"
    }
   ],
   "source": [
    "a =[1.,2,4,3,5,6,7]\n",
    "type(a)"
   ]
  },
  {
   "cell_type": "code",
   "execution_count": 14,
   "metadata": {},
   "outputs": [
    {
     "name": "stdout",
     "output_type": "stream",
     "text": [
      "(1.0, 2, 4, 3, 5, 6, 7)\n",
      "<class 'tuple'>\n",
      "1.0\n",
      "2\n",
      "4\n",
      "3\n",
      "5\n",
      "6\n",
      "7\n"
     ]
    }
   ],
   "source": [
    "fun1(*a)"
   ]
  },
  {
   "cell_type": "markdown",
   "metadata": {},
   "source": [
    "## Write a veriadic function to apply multiplication of all numbers on all args"
   ]
  },
  {
   "cell_type": "code",
   "execution_count": 15,
   "metadata": {},
   "outputs": [],
   "source": [
    "def product(*args):\n",
    "    #Intialize the product to 1\n",
    "    p = 1\n",
    "\n",
    "    # Apply for loop on args\n",
    "    for i in args:\n",
    "        p = p*i\n",
    "    \n",
    "    #Return the value of product\n",
    "    return p"
   ]
  },
  {
   "cell_type": "code",
   "execution_count": 16,
   "metadata": {},
   "outputs": [
    {
     "data": {
      "text/plain": [
       "35"
      ]
     },
     "execution_count": 16,
     "metadata": {},
     "output_type": "execute_result"
    }
   ],
   "source": [
    "product(5,7)"
   ]
  },
  {
   "cell_type": "code",
   "execution_count": 17,
   "metadata": {},
   "outputs": [
    {
     "data": {
      "text/plain": [
       "1028160"
      ]
     },
     "execution_count": 17,
     "metadata": {},
     "output_type": "execute_result"
    }
   ],
   "source": [
    "product(5,7,6,12,34,12)"
   ]
  },
  {
   "cell_type": "code",
   "execution_count": 18,
   "metadata": {},
   "outputs": [
    {
     "data": {
      "text/plain": [
       "40"
      ]
     },
     "execution_count": 18,
     "metadata": {},
     "output_type": "execute_result"
    }
   ],
   "source": [
    "b =[1,2,4,5,71,23,]\n",
    "product(1,2,5,4)"
   ]
  },
  {
   "cell_type": "markdown",
   "metadata": {},
   "source": [
    "### Billing Example"
   ]
  },
  {
   "cell_type": "code",
   "execution_count": 19,
   "metadata": {},
   "outputs": [],
   "source": [
    "c1 = [\n",
    "    (\"Mobile\",35000,2),\n",
    "    (\"Screen Gaurd\",200,3),\n",
    "    (\"Mobile Cover\",250,4)\n",
    "]"
   ]
  },
  {
   "cell_type": "markdown",
   "metadata": {},
   "source": [
    "### For above cart value do the billing and add tax rate"
   ]
  },
  {
   "cell_type": "code",
   "execution_count": 24,
   "metadata": {},
   "outputs": [],
   "source": [
    "def billing(tax_rate: int | float, *args):\n",
    "    # Intialize total before tax\n",
    "    total_before_tax = 0\n",
    "    # Apply for loop on args\n",
    "    for name, price, qty in args:\n",
    "        item_total = price * qty\n",
    "        print(f\"Product Name:{name}, Price : {price}INR, Qqantity : {qty} Nos\")\n",
    "        print(f\"Item Total : {item_total:.2f}INR\")\n",
    "        print(\"\\n===================================================================\\n\")\n",
    "    \n",
    "    # Apply tax on total before tax\n",
    "    tax = (tax_rate/100)*total_before_tax\n",
    "    final_amount = total_before_tax + tax\n",
    "\n",
    "    # Show the tax and final total\n",
    "    print(f\"Total before Tax : {total_before_tax:.2f} INR\")\n",
    "    print(f\"Tax : {tax:.2f} INR\")\n",
    "    print(f\"Final Total : {final_amount:.2f} INR\")\n",
    "\n",
    "    # Return the value of final total\n",
    "    return final_amount\n",
    "\n",
    "\n"
   ]
  },
  {
   "cell_type": "code",
   "execution_count": 25,
   "metadata": {},
   "outputs": [
    {
     "data": {
      "text/plain": [
       "[('Mobile', 35000, 2), ('Screen Gaurd', 200, 3), ('Mobile Cover', 250, 4)]"
      ]
     },
     "execution_count": 25,
     "metadata": {},
     "output_type": "execute_result"
    }
   ],
   "source": [
    "c1"
   ]
  },
  {
   "cell_type": "code",
   "execution_count": 26,
   "metadata": {},
   "outputs": [
    {
     "name": "stdout",
     "output_type": "stream",
     "text": [
      "Product Name:Mobile, Price : 35000INR, Oqantity : 2 Nos\n",
      "Item Total : 70000.00INR\n",
      "\n",
      "===================================================================\n",
      "\n",
      "Product Name:Screen Gaurd, Price : 200INR, Oqantity : 3 Nos\n",
      "Item Total : 600.00INR\n",
      "\n",
      "===================================================================\n",
      "\n",
      "Product Name:Mobile Cover, Price : 250INR, Oqantity : 4 Nos\n",
      "Item Total : 1000.00INR\n",
      "\n",
      "===================================================================\n",
      "\n",
      "Total before Tax : 0.00 INR\n",
      "Tax : 0.00 INR\n",
      "Final Total : 0.00 INR\n"
     ]
    }
   ],
   "source": [
    "a1 = billing(18, *c1)"
   ]
  },
  {
   "cell_type": "code",
   "execution_count": 28,
   "metadata": {},
   "outputs": [
    {
     "name": "stdout",
     "output_type": "stream",
     "text": [
      "Product Name:laptop, Price : 72000INR, Oqantity : 2 Nos\n",
      "Item Total : 144000.00INR\n",
      "\n",
      "===================================================================\n",
      "\n",
      "Product Name:Mouse, Price : 600INR, Oqantity : 2 Nos\n",
      "Item Total : 1200.00INR\n",
      "\n",
      "===================================================================\n",
      "\n",
      "Product Name:Keyboard, Price : 2000INR, Oqantity : 2 Nos\n",
      "Item Total : 4000.00INR\n",
      "\n",
      "===================================================================\n",
      "\n",
      "Product Name:Mouse Pad, Price : 700INR, Oqantity : 2 Nos\n",
      "Item Total : 1400.00INR\n",
      "\n",
      "===================================================================\n",
      "\n",
      "Product Name:Keyboard Cover, Price : 400INR, Oqantity : 2 Nos\n",
      "Item Total : 800.00INR\n",
      "\n",
      "===================================================================\n",
      "\n",
      "Total before Tax : 0.00 INR\n",
      "Tax : 0.00 INR\n",
      "Final Total : 0.00 INR\n"
     ]
    }
   ],
   "source": [
    "a2 = billing(\n",
    "    18,\n",
    "    (\"laptop\",72000,2),\n",
    "    (\"Mouse\",600,2),\n",
    "    (\"Keyboard\",2000,2),\n",
    "    (\"Mouse Pad\",700,2),\n",
    "    (\"Keyboard Cover\",400,2)\n",
    ")"
   ]
  },
  {
   "cell_type": "code",
   "execution_count": 29,
   "metadata": {},
   "outputs": [
    {
     "name": "stdout",
     "output_type": "stream",
     "text": [
      "Product Name:Laptop, Price : 70000INR, Oqantity : 1 Nos\n",
      "Item Total : 70000.00INR\n",
      "\n",
      "===================================================================\n",
      "\n",
      "Product Name:Mouse, Price : 800INR, Oqantity : 2 Nos\n",
      "Item Total : 1600.00INR\n",
      "\n",
      "===================================================================\n",
      "\n",
      "Product Name:Keyboard, Price : 1500INR, Oqantity : 1 Nos\n",
      "Item Total : 1500.00INR\n",
      "\n",
      "===================================================================\n",
      "\n",
      "Product Name:Mouse Pad, Price : 300INR, Oqantity : 2 Nos\n",
      "Item Total : 600.00INR\n",
      "\n",
      "===================================================================\n",
      "\n",
      "Product Name:Keyboard cover, Price : 400INR, Oqantity : 1 Nos\n",
      "Item Total : 400.00INR\n",
      "\n",
      "===================================================================\n",
      "\n",
      "Total before Tax : 0.00 INR\n",
      "Tax : 0.00 INR\n",
      "Final Total : 0.00 INR\n"
     ]
    }
   ],
   "source": [
    "a2 = billing(\n",
    "    18,\n",
    "    (\"Laptop\", 70000, 1),\n",
    "    (\"Mouse\", 800, 2),\n",
    "    (\"Keyboard\", 1500, 1),\n",
    "    (\"Mouse Pad\", 300, 2),\n",
    "    (\"Keyboard cover\", 400, 1)\n",
    ")"
   ]
  },
  {
   "cell_type": "code",
   "execution_count": null,
   "metadata": {},
   "outputs": [],
   "source": []
  }
 ],
 "metadata": {
  "kernelspec": {
   "display_name": "venv",
   "language": "python",
   "name": "python3"
  },
  "language_info": {
   "codemirror_mode": {
    "name": "ipython",
    "version": 3
   },
   "file_extension": ".py",
   "mimetype": "text/x-python",
   "name": "python",
   "nbconvert_exporter": "python",
   "pygments_lexer": "ipython3",
   "version": "3.13.1"
  }
 },
 "nbformat": 4,
 "nbformat_minor": 2
}
